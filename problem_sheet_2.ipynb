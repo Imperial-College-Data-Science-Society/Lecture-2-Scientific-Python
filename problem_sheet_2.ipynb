{
 "cells": [
  {
   "cell_type": "markdown",
   "metadata": {
    "colab_type": "text",
    "id": "Q25FKmGohQgP"
   },
   "source": [
    "#### Problem 1:"
   ]
  },
  {
   "cell_type": "markdown",
   "metadata": {},
   "source": [
    "In this task you will do some basic datafile manipulation to learn how to import and work with .csv files. Please have a quick look at the \"solar_temp_dataset.csv\" to see the format of the file, it contains the history of temperature and sunlight radiation in London over the past two weeks."
   ]
  },
  {
   "cell_type": "markdown",
   "metadata": {},
   "source": [
    "Import `pandas` as ```pd``` and use the function ```pd.read_csv()``` with the appropriate settings for `delimiter`, `parse_dates`, and `skiprows` to import the datafile and save it in a variable named \"dataset\". If you are not familiar with these settings, read the pandas online documentation which you can find by searching the command on google."
   ]
  },
  {
   "cell_type": "code",
   "execution_count": 0,
   "metadata": {
    "colab": {},
    "colab_type": "code",
    "id": "VDqUM5oxswW0"
   },
   "outputs": [],
   "source": [
    "# Write your solution here"
   ]
  },
  {
   "cell_type": "markdown",
   "metadata": {},
   "source": [
    "Print out the `.head()` function on your variable to see if the format of the imported file suits your needs. Google how to pick out separate columns from the pandas dataframe object, and see if they behave as numpy arrays. "
   ]
  },
  {
   "cell_type": "code",
   "execution_count": null,
   "metadata": {},
   "outputs": [],
   "source": [
    "# Write your solution here"
   ]
  },
  {
   "cell_type": "markdown",
   "metadata": {},
   "source": [
    "In one plot, plot the temperature and radiation as a function of time. Is there an obvious correlation between these two variables, would you expect it to be there?"
   ]
  },
  {
   "cell_type": "code",
   "execution_count": null,
   "metadata": {},
   "outputs": [],
   "source": [
    "# Write your solution here"
   ]
  },
  {
   "cell_type": "markdown",
   "metadata": {},
   "source": [
    "Plot a scale for the temperature on the left vertical axis of the plot, and a scale for the radiation on the right vertical axis of the plot. Make sure to also include vertical labels, appropriately labeled horizontal time steps, and a legend. Try to make the plot as publishable as possible."
   ]
  },
  {
   "cell_type": "markdown",
   "metadata": {
    "colab_type": "text",
    "id": "HG0NNPZhhQgR"
   },
   "source": [
    "#### Problem 2:"
   ]
  },
  {
   "cell_type": "markdown",
   "metadata": {},
   "source": [
    "Use the temperature data from the previous problem, and the `boxplot` function included in the `matplotlib` library to plot the temperature distribution. Interpret the various lines in the boxplot. Plot the same data as a histogram in another subplot, how do the respective features of these two plots correspond, when do you think it's useful to use boxplots instead of histograms?"
   ]
  },
  {
   "cell_type": "code",
   "execution_count": 0,
   "metadata": {
    "colab": {},
    "colab_type": "code",
    "id": "f_LnTfuDswW6"
   },
   "outputs": [],
   "source": [
    "# Write your solution here"
   ]
  },
  {
   "cell_type": "markdown",
   "metadata": {
    "colab_type": "text",
    "id": "bmQBIM1xswW9"
   },
   "source": [
    "#### Problem 3"
   ]
  },
  {
   "cell_type": "markdown",
   "metadata": {},
   "source": [
    "Create a numpy array with 200 linearly rising points, that follow the linear equation $y = 3.14x + 2.718$. Add gaussian noise with `mean = 0` and `std = 100` to the data. Plot the resulting $y$ data as a function of $x$."
   ]
  },
  {
   "cell_type": "code",
   "execution_count": 0,
   "metadata": {
    "colab": {},
    "colab_type": "code",
    "id": "k8QaYfaNswW_"
   },
   "outputs": [],
   "source": [
    "# Write your solution here"
   ]
  },
  {
   "cell_type": "markdown",
   "metadata": {},
   "source": [
    "Define a function `linear(x, a, b)` that returns a linear function $y = ax + b$. Use the `scipy.optimize.curve_fit` library to find the optimal parameters `(a,b)` for a linear line fitting the noisy data from previous task. What are the optimal parameters, and are they in close agreement with the real underlying parameters `(3.14, 2.718)`?"
   ]
  },
  {
   "cell_type": "code",
   "execution_count": 2,
   "metadata": {},
   "outputs": [],
   "source": [
    "# Write your solution here"
   ]
  },
  {
   "cell_type": "markdown",
   "metadata": {},
   "source": [
    "Plot the linear fit, noisy data, and clean sata on the same plot. Make sure to distinguish the datasets by different colours."
   ]
  },
  {
   "cell_type": "code",
   "execution_count": null,
   "metadata": {},
   "outputs": [],
   "source": [
    "# Write your solution here"
   ]
  },
  {
   "cell_type": "markdown",
   "metadata": {},
   "source": [
    "Subtract the linear trend found in the previous task from the dataset. Calculate the standard deviation and mean of the resulting data. What do you expect these values to be, why?"
   ]
  },
  {
   "cell_type": "code",
   "execution_count": 4,
   "metadata": {},
   "outputs": [],
   "source": [
    "# Write your solution here"
   ]
  },
  {
   "cell_type": "markdown",
   "metadata": {
    "colab_type": "text",
    "id": "5SPrMYyqhetF"
   },
   "source": [
    "#### Problem 4"
   ]
  },
  {
   "cell_type": "markdown",
   "metadata": {},
   "source": [
    "The repeated application of the function $f(z) = z^2+c$, where $c$ is a complex number, defines a sequence starting from $z=0$.\n",
    "Mandelbrot set is the set of all numbers c such that the repeating application of the function $f(z)$ does not diverge to infinity. Numerically estimate the area of the Mandelbrot set in the complex plane. Try to make the function as fast as possible using vectorisation and numpy. \n",
    "\n",
    "How precise is the resolution of the calculation, what us the estimated error on the final value?\n",
    "\n",
    "Plot the resulting \n",
    "\n",
    "*Hints:*\n",
    "\n",
    "*Mandelbrot set - https://en.wikipedia.org/wiki/Mandelbrot_set*\n",
    "\n",
    "*The sequence diverges if the sequence has an element with magnitude greater than 2. Do not consider $c>2$.*\n",
    "\n",
    "*Instead of working with complex numbers, you can model a complex number by an $x$ and a $y$ coordinate.*"
   ]
  },
  {
   "cell_type": "code",
   "execution_count": 3,
   "metadata": {
    "colab": {},
    "colab_type": "code",
    "id": "Q7ycKnMKswXC"
   },
   "outputs": [],
   "source": [
    "# Write your solution here"
   ]
  }
 ],
 "metadata": {
  "colab": {
   "collapsed_sections": [],
   "name": "problem_sheet_1.ipynb",
   "provenance": [],
   "version": "0.3.2"
  },
  "kernelspec": {
   "display_name": "Python 3",
   "language": "python",
   "name": "python3"
  },
  "language_info": {
   "codemirror_mode": {
    "name": "ipython",
    "version": 3
   },
   "file_extension": ".py",
   "mimetype": "text/x-python",
   "name": "python",
   "nbconvert_exporter": "python",
   "pygments_lexer": "ipython3",
   "version": "3.6.4"
  }
 },
 "nbformat": 4,
 "nbformat_minor": 1
}
